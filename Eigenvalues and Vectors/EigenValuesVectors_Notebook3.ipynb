{
  "nbformat": 4,
  "nbformat_minor": 0,
  "metadata": {
    "colab": {
      "provenance": [],
      "include_colab_link": true
    },
    "kernelspec": {
      "name": "python3",
      "display_name": "Python 3"
    },
    "language_info": {
      "name": "python"
    }
  },
  "cells": [
    {
      "cell_type": "markdown",
      "metadata": {
        "id": "view-in-github",
        "colab_type": "text"
      },
      "source": [
        "<a href=\"https://colab.research.google.com/github/keerth3304/Linear-Algebra_the-coding-way/blob/main/Eigenvalues%20and%20Vectors/EigenValuesVectors_Notebook3.ipynb\" target=\"_parent\"><img src=\"https://colab.research.google.com/assets/colab-badge.svg\" alt=\"Open In Colab\"/></a>"
      ]
    },
    {
      "cell_type": "code",
      "source": [
        "import numpy as np"
      ],
      "metadata": {
        "id": "b5Bxfk_iuaMx"
      },
      "execution_count": null,
      "outputs": []
    },
    {
      "cell_type": "code",
      "source": [
        "def matrix_multiply(A, B):\n",
        "    if len(A[0]) != len(B):\n",
        "        raise ValueError(\"Number of columns in the first matrix must equal the number of rows in the second matrix.\")\n",
        "\n",
        "    result = []\n",
        "    for i in range(len(A)):\n",
        "        row = []\n",
        "        for j in range(len(B[0])):\n",
        "            sum = 0\n",
        "            for k in range(len(B)):\n",
        "                sum += A[i][k] * B[k][j]\n",
        "            row.append(sum)\n",
        "        result.append(row)\n",
        "\n",
        "    return np.array(result)"
      ],
      "metadata": {
        "id": "Ukt5YdnzGgdQ"
      },
      "execution_count": null,
      "outputs": []
    },
    {
      "cell_type": "code",
      "source": [
        "import numpy as np\n",
        "\n",
        "def rref_with_inverse(matrix):\n",
        "    A = np.array(matrix, dtype=float)\n",
        "    rows, cols = A.shape\n",
        "    lead = 0\n",
        "\n",
        "    # Create an identity matrix of the same size as A\n",
        "    identity_matrix = np.eye(rows)\n",
        "\n",
        "    for r in range(rows):\n",
        "        if lead >= cols:  #if the leand is greater then column then the matrix is already in RREF\n",
        "            break\n",
        "        i = r\n",
        "\n",
        "        #this loop check if the current element if pivot(non zero) if it is zero it swaps it with the row which has non zero entry\n",
        "        while A[i, lead] == 0:\n",
        "            i += 1\n",
        "            if i == rows:\n",
        "                i = r\n",
        "                lead += 1\n",
        "                if cols == lead:\n",
        "                    break\n",
        "        if A[i, lead] != 0:\n",
        "            A[[i, r]] = A[[r, i]]\n",
        "            identity_matrix[[i, r]] = identity_matrix[[r, i]]\n",
        "\n",
        "            #normalize the pivot row making the pivot equal to 1\n",
        "            lv = A[r, lead]\n",
        "            A[r] = A[r] / lv\n",
        "            identity_matrix[r] = identity_matrix[r] / lv\n",
        "\n",
        "            #Eliminate Entries Below Pivot: For each row other than the pivot row (r),\n",
        "            #the algorithm subtracts multiples of the pivot row from the current row to eliminate the entries below the pivot\n",
        "            for i in range(rows):\n",
        "                if i != r:\n",
        "                    lv = A[i, lead]\n",
        "                    A[i] = A[i] - lv * A[r]\n",
        "                    identity_matrix[i] = identity_matrix[i] - lv * identity_matrix[r]\n",
        "            lead += 1\n",
        "\n",
        "    # Check if the original matrix is invertible\n",
        "    if np.any(np.diag(A) == 0):\n",
        "        return \"Matrix is not invertible\"\n",
        "\n",
        "    # Scale the rows of A to make the diagonal entries equal to 1\n",
        "    for r in range(rows):\n",
        "        lv = A[r, r]\n",
        "        A[r] = A[r] / lv\n",
        "        identity_matrix[r] = identity_matrix[r] / lv\n",
        "\n",
        "    return identity_matrix"
      ],
      "metadata": {
        "id": "NxKcCX4DQLYE"
      },
      "execution_count": null,
      "outputs": []
    },
    {
      "cell_type": "code",
      "source": [
        "A = [[0, 1, 2],\n",
        "      [1, 0, 3],\n",
        "      [4, -3, 8]]\n",
        "\n",
        "inverse_matrix = rref_with_inverse(A)\n",
        "print(\"Inverse Matrix:\")\n",
        "print(inverse_matrix)"
      ],
      "metadata": {
        "colab": {
          "base_uri": "https://localhost:8080/"
        },
        "id": "Oid5oMZDNlbk",
        "outputId": "489f66c1-d1ef-489b-bace-93b1235c41ca"
      },
      "execution_count": null,
      "outputs": [
        {
          "output_type": "stream",
          "name": "stdout",
          "text": [
            "Inverse Matrix:\n",
            "[[-4.5  7.  -1.5]\n",
            " [-2.   4.  -1. ]\n",
            " [ 1.5 -2.   0.5]]\n"
          ]
        }
      ]
    },
    {
      "cell_type": "code",
      "source": [
        "print(\"Product of Original matrix & its inverse:\\n\",matrix_multiply(A, inverse_matrix))"
      ],
      "metadata": {
        "colab": {
          "base_uri": "https://localhost:8080/"
        },
        "id": "AeR0_NrlGl4o",
        "outputId": "fe1eb1b2-1bf8-48e0-d69b-44a9417454c7"
      },
      "execution_count": null,
      "outputs": [
        {
          "output_type": "stream",
          "name": "stdout",
          "text": [
            "Product of Original matrix & its inverse:\n",
            " [[1. 0. 0.]\n",
            " [0. 1. 0.]\n",
            " [0. 0. 1.]]\n"
          ]
        }
      ]
    }
  ]
}